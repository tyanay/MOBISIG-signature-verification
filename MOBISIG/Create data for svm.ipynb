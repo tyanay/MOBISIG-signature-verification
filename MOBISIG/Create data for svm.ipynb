{
 "cells": [
  {
   "cell_type": "code",
   "execution_count": 1,
   "metadata": {
    "collapsed": true
   },
   "outputs": [],
   "source": [
    "import pandas as pd\n",
    "import numpy as np\n",
    "import matplotlib.pyplot as plt\n",
    "from random import sample\n",
    "import os\n",
    "from scipy.stats import zscore\n",
    "import dtw\n",
    "from scipy.spatial.distance import euclidean\n",
    "from fastdtw import fastdtw"
   ]
  },
  {
   "cell_type": "code",
   "execution_count": 2,
   "metadata": {
    "collapsed": true
   },
   "outputs": [],
   "source": [
    "def load_gen_sign(user_num, sign_num):\n",
    "    user = \"USER\" + str(user_num)\n",
    "    sign = \"SIGN_GEN_{}_{}_{}\".format(user,user,sign_num)\n",
    "    return pd.read_csv(user + \"/\" + sign + \".csv\")\n",
    "\n",
    "def load_for_sign(for_user_num, sign_num):\n",
    "    for_user = \"USER\" + str(for_user_num)\n",
    "    for file in os.listdir(for_user):\n",
    "        if file.endswith(str(sign_num) + \".csv\") and file.startswith(\"SIGN_FOR\"): #find the sign- that row needed because we don't kmow who is the user that fake the sign\n",
    "            sign = file\n",
    "            break"
   ]
  },
  {
   "cell_type": "code",
   "execution_count": 16,
   "metadata": {},
   "outputs": [
    {
     "data": {
      "text/html": [
       "<div>\n",
       "<style>\n",
       "    .dataframe thead tr:only-child th {\n",
       "        text-align: right;\n",
       "    }\n",
       "\n",
       "    .dataframe thead th {\n",
       "        text-align: left;\n",
       "    }\n",
       "\n",
       "    .dataframe tbody tr th {\n",
       "        vertical-align: top;\n",
       "    }\n",
       "</style>\n",
       "<table border=\"1\" class=\"dataframe\">\n",
       "  <thead>\n",
       "    <tr style=\"text-align: right;\">\n",
       "      <th></th>\n",
       "      <th>x</th>\n",
       "      <th>y</th>\n",
       "      <th>timestamp</th>\n",
       "      <th>pressure</th>\n",
       "      <th>fingerarea</th>\n",
       "      <th>velocityx</th>\n",
       "      <th>velocityy</th>\n",
       "      <th>accelx</th>\n",
       "      <th>accely</th>\n",
       "      <th>accelz</th>\n",
       "      <th>x_1</th>\n",
       "      <th>x_2</th>\n",
       "      <th>y_1</th>\n",
       "      <th>y_2</th>\n",
       "      <th>pressure_1</th>\n",
       "    </tr>\n",
       "  </thead>\n",
       "  <tbody>\n",
       "    <tr>\n",
       "      <th>0</th>\n",
       "      <td>329.37064</td>\n",
       "      <td>500.10364</td>\n",
       "      <td>123318261</td>\n",
       "      <td>0.5625</td>\n",
       "      <td>0.085106</td>\n",
       "      <td>0.000000</td>\n",
       "      <td>0.000000</td>\n",
       "      <td>0.006756</td>\n",
       "      <td>-0.006462</td>\n",
       "      <td>-0.009874</td>\n",
       "      <td>NaN</td>\n",
       "      <td>NaN</td>\n",
       "      <td>NaN</td>\n",
       "      <td>NaN</td>\n",
       "      <td>NaN</td>\n",
       "    </tr>\n",
       "    <tr>\n",
       "      <th>1</th>\n",
       "      <td>329.37064</td>\n",
       "      <td>500.10364</td>\n",
       "      <td>123318277</td>\n",
       "      <td>0.6250</td>\n",
       "      <td>0.085106</td>\n",
       "      <td>-2.863901</td>\n",
       "      <td>-4.339154</td>\n",
       "      <td>0.006756</td>\n",
       "      <td>-0.006462</td>\n",
       "      <td>-0.009874</td>\n",
       "      <td>0.00000</td>\n",
       "      <td>NaN</td>\n",
       "      <td>0.00000</td>\n",
       "      <td>NaN</td>\n",
       "      <td>0.0625</td>\n",
       "    </tr>\n",
       "    <tr>\n",
       "      <th>2</th>\n",
       "      <td>329.37064</td>\n",
       "      <td>500.10364</td>\n",
       "      <td>123318294</td>\n",
       "      <td>0.6125</td>\n",
       "      <td>0.063830</td>\n",
       "      <td>-0.016152</td>\n",
       "      <td>-0.020761</td>\n",
       "      <td>0.006756</td>\n",
       "      <td>-0.006462</td>\n",
       "      <td>-0.009874</td>\n",
       "      <td>0.00000</td>\n",
       "      <td>0.00000</td>\n",
       "      <td>0.00000</td>\n",
       "      <td>0.00000</td>\n",
       "      <td>-0.0125</td>\n",
       "    </tr>\n",
       "    <tr>\n",
       "      <th>3</th>\n",
       "      <td>338.25266</td>\n",
       "      <td>482.34155</td>\n",
       "      <td>123318310</td>\n",
       "      <td>0.6250</td>\n",
       "      <td>0.074468</td>\n",
       "      <td>564.493200</td>\n",
       "      <td>-1128.966100</td>\n",
       "      <td>0.006756</td>\n",
       "      <td>-0.006462</td>\n",
       "      <td>-0.009874</td>\n",
       "      <td>8.88202</td>\n",
       "      <td>8.88202</td>\n",
       "      <td>-17.76209</td>\n",
       "      <td>-17.76209</td>\n",
       "      <td>0.0125</td>\n",
       "    </tr>\n",
       "    <tr>\n",
       "      <th>4</th>\n",
       "      <td>356.18692</td>\n",
       "      <td>437.15588</td>\n",
       "      <td>123318327</td>\n",
       "      <td>0.6250</td>\n",
       "      <td>0.063830</td>\n",
       "      <td>1157.399200</td>\n",
       "      <td>-2718.011500</td>\n",
       "      <td>0.006756</td>\n",
       "      <td>-0.006462</td>\n",
       "      <td>-0.009874</td>\n",
       "      <td>17.93426</td>\n",
       "      <td>26.81628</td>\n",
       "      <td>-45.18567</td>\n",
       "      <td>-62.94776</td>\n",
       "      <td>0.0000</td>\n",
       "    </tr>\n",
       "  </tbody>\n",
       "</table>\n",
       "</div>"
      ],
      "text/plain": [
       "           x          y  timestamp  pressure  fingerarea    velocityx  \\\n",
       "0  329.37064  500.10364  123318261    0.5625    0.085106     0.000000   \n",
       "1  329.37064  500.10364  123318277    0.6250    0.085106    -2.863901   \n",
       "2  329.37064  500.10364  123318294    0.6125    0.063830    -0.016152   \n",
       "3  338.25266  482.34155  123318310    0.6250    0.074468   564.493200   \n",
       "4  356.18692  437.15588  123318327    0.6250    0.063830  1157.399200   \n",
       "\n",
       "     velocityy    accelx    accely    accelz       x_1       x_2       y_1  \\\n",
       "0     0.000000  0.006756 -0.006462 -0.009874       NaN       NaN       NaN   \n",
       "1    -4.339154  0.006756 -0.006462 -0.009874   0.00000       NaN   0.00000   \n",
       "2    -0.020761  0.006756 -0.006462 -0.009874   0.00000   0.00000   0.00000   \n",
       "3 -1128.966100  0.006756 -0.006462 -0.009874   8.88202   8.88202 -17.76209   \n",
       "4 -2718.011500  0.006756 -0.006462 -0.009874  17.93426  26.81628 -45.18567   \n",
       "\n",
       "        y_2  pressure_1  \n",
       "0       NaN         NaN  \n",
       "1       NaN      0.0625  \n",
       "2   0.00000     -0.0125  \n",
       "3 -17.76209      0.0125  \n",
       "4 -62.94776      0.0000  "
      ]
     },
     "execution_count": 16,
     "metadata": {},
     "output_type": "execute_result"
    }
   ],
   "source": [
    "# test and exp block\n",
    "df = load_gen_sign(1,1)\n",
    "df = df.drop(['gyrox', 'gyroy', 'gyroz'], axis = 1)\n",
    "df['x_1'] = df['x'].diff(periods=1)\n",
    "df['x_2'] = df['x'].diff(periods=2)\n",
    "df['y_1'] = df['y'].diff(periods=1)\n",
    "df['y_2'] = df['y'].diff(periods=2)\n",
    "df['pressure_1'] = df['pressure'].diff(periods=1)\n",
    "df.head(5)"
   ]
  },
  {
   "cell_type": "code",
   "execution_count": 25,
   "metadata": {},
   "outputs": [
    {
     "data": {
      "text/plain": [
       "2966"
      ]
     },
     "execution_count": 25,
     "metadata": {},
     "output_type": "execute_result"
    }
   ],
   "source": [
    "# create features\n",
    "row = [None] * 62\n",
    "\n",
    "row[0] = df.loc[df.shape[0]-1,'timestamp'] - df.loc[0,'timestamp']\n"
   ]
  },
  {
   "cell_type": "markdown",
   "metadata": {},
   "source": []
  },
  {
   "cell_type": "code",
   "execution_count": null,
   "metadata": {
    "collapsed": true
   },
   "outputs": [],
   "source": []
  },
  {
   "cell_type": "code",
   "execution_count": null,
   "metadata": {
    "collapsed": true
   },
   "outputs": [],
   "source": []
  }
 ],
 "metadata": {
  "kernelspec": {
   "display_name": "Python 3",
   "language": "python",
   "name": "python3"
  },
  "language_info": {
   "codemirror_mode": {
    "name": "ipython",
    "version": 3
   },
   "file_extension": ".py",
   "mimetype": "text/x-python",
   "name": "python",
   "nbconvert_exporter": "python",
   "pygments_lexer": "ipython3",
   "version": "3.6.2"
  }
 },
 "nbformat": 4,
 "nbformat_minor": 2
}
