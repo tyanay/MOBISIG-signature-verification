{
 "cells": [
  {
   "cell_type": "code",
   "execution_count": 1,
   "metadata": {
    "collapsed": true
   },
   "outputs": [],
   "source": [
    "import pandas as pd\n",
    "import numpy as np\n",
    "import matplotlib.pyplot as plt"
   ]
  },
  {
   "cell_type": "code",
   "execution_count": 2,
   "metadata": {
    "collapsed": true
   },
   "outputs": [],
   "source": [
    "def load_gen_sign(user_num, sign_num):\n",
    "    user = \"USER\" + str(user_num)\n",
    "    sign = \"SIGN_GEN_{}_{}_{}\".format(user,user,sign_num)\n",
    "    return pd.read_csv(user + \"/\" + sign + \".csv\")\n",
    "\n",
    "def load_for_sign(for_user_num, by_user_num, sign_num):\n",
    "    for_user = \"USER\" + str(for_user_num)\n",
    "    by_user = \"USER\" + str(by_user_num)\n",
    "    sign = \"SIGN_FOR_{}_{}_{}\".format(for_user,by_user,sign_num)\n",
    "    return pd.read_csv(for_user + \"/\" + sign + \".csv\")"
   ]
  },
  {
   "cell_type": "code",
   "execution_count": 17,
   "metadata": {
    "collapsed": true
   },
   "outputs": [],
   "source": [
    "def show_sign(user_num, sign_num):\n",
    "    data = load_gen_sign(user_num, sign_num)\n",
    "    X = data['x']\n",
    "    Y = data['y']\n",
    "    plt.plot(X, Y)\n",
    "    plt.title('gen signature num {} for user {}'.format(sign_num, user_num))\n",
    "    plt.show()\n",
    "#show_sign(1, 1)"
   ]
  },
  {
   "cell_type": "code",
   "execution_count": 18,
   "metadata": {
    "collapsed": true
   },
   "outputs": [],
   "source": [
    "def show_pressure_map(user_num, sign_num):\n",
    "    data = load_gen_sign(user_num, sign_num)\n",
    "    X = data['x']\n",
    "    Y = data['y']\n",
    "    colors = (data['pressure']*10).astype(int)/10\n",
    "    plt.scatter(X, Y, s=500, c=colors)\n",
    "    plt.gray()\n",
    "    plt.title('gen signature num {} for user {}'.format(sign_num, user_num))\n",
    "    plt.show()\n",
    "#show_pressure_map(1, 1)"
   ]
  },
  {
   "cell_type": "code",
   "execution_count": 15,
   "metadata": {
    "collapsed": true
   },
   "outputs": [],
   "source": [
    "def show_for_sign(for_user_num, by_user_num, sign_num):\n",
    "    data = load_for_sign(for_user_num, by_user_num, sign_num)\n",
    "    X = data['x']\n",
    "    Y = data['y']\n",
    "    plt.plot(X, Y)\n",
    "    plt.title('forged signature num {} for user {}'.format(sign_num, for_user_num))\n",
    "    plt.show()\n",
    "#show_for_sign(1, 2, 1)"
   ]
  },
  {
   "cell_type": "code",
   "execution_count": 16,
   "metadata": {
    "collapsed": true
   },
   "outputs": [],
   "source": [
    "def show_for_sign_presssure(for_user_num, by_user_num, sign_num):\n",
    "    data = load_for_sign(for_user_num, by_user_num, sign_num)\n",
    "    X = data['x']\n",
    "    Y = data['y']\n",
    "    colors = (data['pressure']*10).astype(int)/10\n",
    "    plt.scatter(X, Y, s=500, c=colors)\n",
    "    plt.gray()\n",
    "    plt.title('forged signature num {} for user {}'.format(sign_num, for_user_num))\n",
    "    plt.show()\n",
    "#show_for_sign_presssure(1, 2, 1)"
   ]
  },
  {
   "cell_type": "code",
   "execution_count": null,
   "metadata": {
    "collapsed": true
   },
   "outputs": [],
   "source": []
  }
 ],
 "metadata": {
  "kernelspec": {
   "display_name": "Python 3",
   "language": "python",
   "name": "python3"
  },
  "language_info": {
   "codemirror_mode": {
    "name": "ipython",
    "version": 3
   },
   "file_extension": ".py",
   "mimetype": "text/x-python",
   "name": "python",
   "nbconvert_exporter": "python",
   "pygments_lexer": "ipython3",
   "version": "3.6.2"
  }
 },
 "nbformat": 4,
 "nbformat_minor": 2
}
